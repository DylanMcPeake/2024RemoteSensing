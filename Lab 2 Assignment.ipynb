{
 "cells": [
  {
   "cell_type": "markdown",
   "id": "a685c98c-d5db-4652-a2e6-a6537d82e57a",
   "metadata": {},
   "source": [
    "# Lab 2 - Assignment"
   ]
  },
  {
   "cell_type": "code",
   "execution_count": 1,
   "id": "2d045233-889f-4e51-a045-2d08364adad1",
   "metadata": {},
   "outputs": [
    {
     "name": "stdout",
     "output_type": "stream",
     "text": [
      "Updated by Dylan McPeake,  February 22, 2024\n"
     ]
    }
   ],
   "source": [
    "from datetime import date\n",
    "today = date.today()\n",
    "d2 = today.strftime(\"%B %d, %Y\")\n",
    "print(\"Updated by Dylan McPeake, \", d2)"
   ]
  },
  {
   "cell_type": "code",
   "execution_count": 2,
   "id": "b8fd990e-282c-40c5-aa68-e8e50989dfa0",
   "metadata": {},
   "outputs": [
    {
     "data": {
      "application/vnd.jupyter.widget-view+json": {
       "model_id": "aed81ffb20b7459889bab963138cbdc8",
       "version_major": 2,
       "version_minor": 0
      },
      "text/plain": [
       "Map(center=[20, 0], controls=(WidgetControl(options=['position', 'transparent_bg'], widget=HBox(children=(Togg…"
      ]
     },
     "execution_count": 2,
     "metadata": {},
     "output_type": "execute_result"
    }
   ],
   "source": [
    "import ee\n",
    "ee.Initialize()\n",
    "\n",
    "import geemap\n",
    "\n",
    "Map = geemap.Map() \n",
    "Map"
   ]
  },
  {
   "cell_type": "code",
   "execution_count": 3,
   "id": "0c786ba5-98b1-4a38-8261-705fa6633281",
   "metadata": {},
   "outputs": [],
   "source": [
    "latitude1 = 41.754372\n",
    "longitude1 = -111.834412\n",
    "sfoPoint = ee.Geometry.Point([longitude1, latitude1]);\n",
    "latitude2 =37.77862975352838\n",
    "longitude2 = -122.22365888039644\n",
    "sfoPoint2 = ee.Geometry.Point([longitude2, latitude2]);"
   ]
  },
  {
   "cell_type": "markdown",
   "id": "81265dec-8fd6-4eba-9b0c-9012c96961cd",
   "metadata": {},
   "source": [
    "# Modis"
   ]
  },
  {
   "cell_type": "code",
   "execution_count": 4,
   "id": "67053160-70a9-4323-ae6e-818cc1940b75",
   "metadata": {},
   "outputs": [
    {
     "name": "stdout",
     "output_type": "stream",
     "text": [
      "['Nadir_Reflectance_Band1', 'Nadir_Reflectance_Band2', 'Nadir_Reflectance_Band3', 'Nadir_Reflectance_Band4', 'Nadir_Reflectance_Band5', 'Nadir_Reflectance_Band6', 'Nadir_Reflectance_Band7', 'BRDF_Albedo_Band_Mandatory_Quality_Band1', 'BRDF_Albedo_Band_Mandatory_Quality_Band2', 'BRDF_Albedo_Band_Mandatory_Quality_Band3', 'BRDF_Albedo_Band_Mandatory_Quality_Band4', 'BRDF_Albedo_Band_Mandatory_Quality_Band5', 'BRDF_Albedo_Band_Mandatory_Quality_Band6', 'BRDF_Albedo_Band_Mandatory_Quality_Band7']\n"
     ]
    }
   ],
   "source": [
    "myd09 = ee.ImageCollection(\"MODIS/061/MCD43A4\")\n",
    "\n",
    "# Get a surface reflectance image from the MODIS MYD09GA collection.\n",
    "modisImage = ee.Image(myd09.filterDate('2022-07-05').first());\n",
    "\n",
    "modisImage = modisImage.multiply(0.0001)\n",
    "# Print the image band names to the console.\n",
    "band_names = modisImage.bandNames()\n",
    "print(band_names.getInfo())"
   ]
  },
  {
   "cell_type": "code",
   "execution_count": 5,
   "id": "1897b945-27cd-406f-a998-d6660cd63130",
   "metadata": {},
   "outputs": [
    {
     "data": {
      "application/vnd.jupyter.widget-view+json": {
       "model_id": "aed81ffb20b7459889bab963138cbdc8",
       "version_major": 2,
       "version_minor": 0
      },
      "text/plain": [
       "Map(center=[20, 0], controls=(WidgetControl(options=['position', 'transparent_bg'], widget=HBox(children=(Togg…"
      ]
     },
     "execution_count": 5,
     "metadata": {},
     "output_type": "execute_result"
    }
   ],
   "source": [
    "# Use these MODIS bands for red, green, blue, respectively.\n",
    "modisBands = ['Nadir_Reflectance_Band1', 'Nadir_Reflectance_Band4', 'Nadir_Reflectance_Band3'];\n",
    "\n",
    "#// Add the image to the map.\n",
    "# url = modisImage.getThumbURL({'dimensions': 700,'bands':modisBands,'min': 0, 'max': 3000,'region':area_to_display})\n",
    "# # print(url)\n",
    "# Image(url=url)\n",
    "\n",
    "# add layer\n",
    "Map.addLayer(modisImage, {'bands':modisBands,'min': 0, 'max':0.4}, name='MODIS Image')\n",
    "Map"
   ]
  },
  {
   "cell_type": "code",
   "execution_count": 6,
   "id": "5534656b-35aa-431e-9c2c-ca352a92d4ac",
   "metadata": {},
   "outputs": [
    {
     "name": "stdout",
     "output_type": "stream",
     "text": [
      "MODIS scale: 463.31271652791656\n"
     ]
    }
   ],
   "source": [
    "# Get the scale of the data from the first band's projection:\n",
    "modisScale = modisImage.select('Nadir_Reflectance_Band1').projection().nominalScale();\n",
    "\n",
    "print('MODIS scale:', modisScale.getInfo());"
   ]
  },
  {
   "cell_type": "markdown",
   "id": "ec6c2d19-aebe-4af0-ba4e-7c922f036ff6",
   "metadata": {},
   "source": [
    "# Landsat MSS"
   ]
  },
  {
   "cell_type": "code",
   "execution_count": 7,
   "id": "a87aeed2-3140-4343-a1d5-caca978a3058",
   "metadata": {},
   "outputs": [
    {
     "name": "stdout",
     "output_type": "stream",
     "text": [
      "['B4', 'B5', 'B6', 'B7', 'QA_PIXEL', 'QA_RADSAT']\n"
     ]
    }
   ],
   "source": [
    "# Filter MSS imagery by location, date and cloudiness.\n",
    "mss= ee.ImageCollection(\"LANDSAT/LM01/C02/T1\")\n",
    "\n",
    "mssImage = ee.Image(mss\n",
    "    .filterBounds(sfoPoint2)\n",
    "    #.filterDate('1972-07-26','1978-01-06')\n",
    "    .sort('CLOUD_COVER')\n",
    "#Get the least cloudy image.\n",
    "    .first());\n",
    "\n",
    "\n",
    "\n",
    "\n",
    "# Print the image band names to the console.\n",
    "band_names = mssImage.bandNames()\n",
    "print(band_names.getInfo())\n",
    "# Display the MSS image as a color-IR composite."
   ]
  },
  {
   "cell_type": "code",
   "execution_count": 8,
   "id": "58c8059e-0b2c-4ca1-a530-e1ec6f612e02",
   "metadata": {},
   "outputs": [
    {
     "data": {
      "application/vnd.jupyter.widget-view+json": {
       "model_id": "aed81ffb20b7459889bab963138cbdc8",
       "version_major": 2,
       "version_minor": 0
      },
      "text/plain": [
       "Map(center=[20, 0], controls=(WidgetControl(options=['position', 'transparent_bg'], widget=HBox(children=(Togg…"
      ]
     },
     "execution_count": 8,
     "metadata": {},
     "output_type": "execute_result"
    }
   ],
   "source": [
    "# Use these MODIS bands for red, green, blue, respectively.\n",
    "mssBands = ['B6', 'B5', 'B4'];\n",
    "\n",
    "Map.addLayer(mssImage, {'bands':mssBands,'min': 0, 'max': 70}, name='LandsatMSS Image')\n",
    "Map\n",
    "# bounds = sfoPoint.buffer(70000)\n",
    "# Map.centerObject(bounds)"
   ]
  },
  {
   "cell_type": "code",
   "execution_count": 9,
   "id": "44c7b73c-67ef-4992-8618-85ccc4fefc1f",
   "metadata": {},
   "outputs": [
    {
     "name": "stdout",
     "output_type": "stream",
     "text": [
      "MSS scale: 60\n"
     ]
    }
   ],
   "source": [
    "# Get the scale of the MSS data from its projection:\n",
    "mssScale = mssImage.select('B6').projection().nominalScale();\n",
    "\n",
    "print('MSS scale:', mssScale.getInfo());\n"
   ]
  },
  {
   "cell_type": "markdown",
   "id": "432f0254-20ad-468d-93a1-20359bab1693",
   "metadata": {},
   "source": [
    "There is no LANDSAT 1 data for Logan, Utah. San Fransicso, Californi was used here to show how importation and work and the scale."
   ]
  },
  {
   "cell_type": "markdown",
   "id": "ed4fedcd-e56a-4ebc-a9df-313c00a99e7a",
   "metadata": {},
   "source": [
    "# TM"
   ]
  },
  {
   "cell_type": "code",
   "execution_count": 10,
   "id": "ea15d210-391e-4e29-82e8-18e9e368b348",
   "metadata": {},
   "outputs": [
    {
     "name": "stdout",
     "output_type": "stream",
     "text": [
      "['SR_B1', 'SR_B2', 'SR_B3', 'SR_B4', 'SR_B5', 'SR_B7', 'SR_ATMOS_OPACITY', 'SR_CLOUD_QA', 'ST_B6', 'ST_ATRAN', 'ST_CDIST', 'ST_DRAD', 'ST_EMIS', 'ST_EMSD', 'ST_QA', 'ST_TRAD', 'ST_URAD', 'QA_PIXEL', 'QA_RADSAT']\n"
     ]
    }
   ],
   "source": [
    "tm= ee.ImageCollection(\"LANDSAT/LT05/C02/T1_L2\")\n",
    "\n",
    "# // Filter TM imagery by location, date and cloudiness.\n",
    "tmImage = ee.Image(tm\n",
    "    .filterBounds(sfoPoint) # I could have used sfopoint too. every image has a boundary geometry\n",
    "    .filterDate('2011-06-01', '2011-07-01')\n",
    "    .sort('CLOUD_COVER') # not all satellites have this property, check the properties table\n",
    "    .first());\n",
    "\n",
    "tmImage = tmImage.multiply(2.75e-05).add(-0.2)\n",
    "\n",
    "\n",
    "# Print the image band names to the console.\n",
    "band_names = tmImage.bandNames()\n",
    "print(band_names.getInfo())"
   ]
  },
  {
   "cell_type": "code",
   "execution_count": 11,
   "id": "e2c0be46-7ad1-495a-8921-b6f03c740101",
   "metadata": {},
   "outputs": [
    {
     "data": {
      "application/vnd.jupyter.widget-view+json": {
       "model_id": "aed81ffb20b7459889bab963138cbdc8",
       "version_major": 2,
       "version_minor": 0
      },
      "text/plain": [
       "Map(center=[20, 0], controls=(WidgetControl(options=['position', 'transparent_bg'], widget=HBox(children=(Togg…"
      ]
     },
     "execution_count": 11,
     "metadata": {},
     "output_type": "execute_result"
    }
   ],
   "source": [
    "# // Display the TM image as a color-IR composite.\n",
    "tmBands=  ['SR_B3', 'SR_B2', 'SR_B1']\n",
    "\n",
    "Map.addLayer(tmImage, {'bands':tmBands,'min': 0, 'max': 0.4}, name='Landsat TM Image')\n",
    "Map\n",
    "# bounds = sfoPoint.buffer(70000)\n",
    "# Map.centerObject(bounds)"
   ]
  },
  {
   "cell_type": "code",
   "execution_count": 12,
   "id": "1ec06b30-5d96-4c61-a6d5-e8a9e8dc6d0a",
   "metadata": {},
   "outputs": [
    {
     "name": "stdout",
     "output_type": "stream",
     "text": [
      "TM scale: 30\n"
     ]
    }
   ],
   "source": [
    "# // Get the scale of the TM data from its projection:\n",
    "tmScale = tmImage.select('SR_B1').projection().nominalScale();\n",
    "print('TM scale:', tmScale.getInfo());"
   ]
  },
  {
   "cell_type": "markdown",
   "id": "2f8ca3b3-ae50-47ba-9082-c6e33576921c",
   "metadata": {},
   "source": [
    "# NAIP"
   ]
  },
  {
   "cell_type": "code",
   "execution_count": 13,
   "id": "3591cb6c-3a4e-4b7a-b776-481e7505d0e0",
   "metadata": {},
   "outputs": [
    {
     "name": "stdout",
     "output_type": "stream",
     "text": [
      "['R', 'G', 'B', 'N']\n"
     ]
    }
   ],
   "source": [
    "naip = ee.ImageCollection(\"USDA/NAIP/DOQQ\")\n",
    "\n",
    "# // Get NAIP images for the study period and region of interest.\n",
    "naipImages = naip.filterDate('2019-01-01', '2023-12-31').filterBounds(sfoPoint);\n",
    "\n",
    "# // Mosaic adjacent images into a single image.\n",
    "naipImage = naipImages.mosaic();\n",
    "\n",
    "# Print the image band names to the console.\n",
    "band_names = naipImage.bandNames()\n",
    "print(band_names.getInfo())"
   ]
  },
  {
   "cell_type": "code",
   "execution_count": 14,
   "id": "145d5d36-ce7c-4370-b92d-93a2cc7b4698",
   "metadata": {},
   "outputs": [
    {
     "data": {
      "application/vnd.jupyter.widget-view+json": {
       "model_id": "aed81ffb20b7459889bab963138cbdc8",
       "version_major": 2,
       "version_minor": 0
      },
      "text/plain": [
       "Map(center=[20, 0], controls=(WidgetControl(options=['position', 'transparent_bg'], widget=HBox(children=(Togg…"
      ]
     },
     "execution_count": 14,
     "metadata": {},
     "output_type": "execute_result"
    }
   ],
   "source": [
    "# // Display the NAIP mosaic as a color-IR composite.\n",
    "nBands=  ['R', 'G', 'B']\n",
    "\n",
    "Map.addLayer(naipImage, {'bands':nBands,'min': 0, 'max': 255}, name='NAIP Image')\n",
    "Map\n",
    "# bounds = sfoPoint.buffer(70000)\n",
    "# Map.centerObject(bounds)"
   ]
  },
  {
   "cell_type": "code",
   "execution_count": 15,
   "id": "56505e72-259a-4774-976a-912240ae4722",
   "metadata": {},
   "outputs": [
    {
     "name": "stdout",
     "output_type": "stream",
     "text": [
      "NAIP scale: 0.6\n"
     ]
    }
   ],
   "source": [
    "# // Get the NAIP resolution from the first image in the mosaic.\n",
    "naipScale = ee.Image(naipImages.first()).projection().nominalScale();\n",
    "print('NAIP scale:', naipScale.getInfo());\n"
   ]
  },
  {
   "cell_type": "markdown",
   "id": "be083fc4-8754-4d67-be33-2aabe9895033",
   "metadata": {},
   "source": [
    "# Aster"
   ]
  },
  {
   "cell_type": "code",
   "execution_count": 16,
   "id": "754a121a-22fd-42dd-94cb-7bdbf5be0f55",
   "metadata": {},
   "outputs": [
    {
     "name": "stdout",
     "output_type": "stream",
     "text": [
      "['B01', 'B02', 'B3N', 'B04', 'B05', 'B06', 'B07', 'B08', 'B09', 'B10', 'B11', 'B12', 'B13', 'B14']\n"
     ]
    }
   ],
   "source": [
    "aster= ee.ImageCollection(\"ASTER/AST_L1T_003\")\n",
    "\n",
    "asterImages = ee.Image(aster\n",
    "    .filterBounds(sfoPoint)\n",
    "    .filterDate('2020-01-01','2021-12-31')\n",
    "    .sort('CLOUDCOVER')\n",
    "    .first());\n",
    "\n",
    "# Print the image band names to the console.\n",
    "band_names = asterImages.bandNames()\n",
    "print(band_names.getInfo())                 "
   ]
  },
  {
   "cell_type": "code",
   "execution_count": 17,
   "id": "3fd17ba8-2ca2-44af-850a-6966525d256c",
   "metadata": {},
   "outputs": [
    {
     "data": {
      "application/vnd.jupyter.widget-view+json": {
       "model_id": "aed81ffb20b7459889bab963138cbdc8",
       "version_major": 2,
       "version_minor": 0
      },
      "text/plain": [
       "Map(center=[20, 0], controls=(WidgetControl(options=['position', 'transparent_bg'], widget=HBox(children=(Togg…"
      ]
     },
     "execution_count": 17,
     "metadata": {},
     "output_type": "execute_result"
    }
   ],
   "source": [
    "# // Display the TM image as a color-IR composite.\n",
    "asterBands=  ['B3N', 'B02', 'B01']\n",
    "\n",
    "Map.addLayer(asterImages, {'bands':asterBands,'min': 0, 'max': 255}, name='Aster Image')\n",
    "Map\n",
    "# bounds = sfoPoint.buffer(70000)\n",
    "# Map.centerObject(bounds)"
   ]
  },
  {
   "cell_type": "code",
   "execution_count": 18,
   "id": "2cb25acc-109a-490f-9a74-44540ed7f6c4",
   "metadata": {},
   "outputs": [
    {
     "name": "stdout",
     "output_type": "stream",
     "text": [
      "Aster scale: 15\n"
     ]
    }
   ],
   "source": [
    "# Get the scale of the MSS data from its projection:\n",
    "asterScale = asterImages.select('B01').projection().nominalScale();\n",
    "\n",
    "print('Aster scale:', asterScale.getInfo());"
   ]
  },
  {
   "cell_type": "markdown",
   "id": "0a5d667b-2d60-489f-b894-f89d3a781997",
   "metadata": {},
   "source": [
    "# Sentinel 2"
   ]
  },
  {
   "cell_type": "code",
   "execution_count": 19,
   "id": "b8c75ec6-d129-49b5-ad78-9571063b0c1f",
   "metadata": {},
   "outputs": [
    {
     "name": "stdout",
     "output_type": "stream",
     "text": [
      "['B1', 'B2', 'B3', 'B4', 'B5', 'B6', 'B7', 'B8', 'B8A', 'B9', 'B10', 'B11', 'B12', 'QA10', 'QA20', 'QA60']\n"
     ]
    }
   ],
   "source": [
    "sentinel2= ee.ImageCollection(\"COPERNICUS/S2\")\n",
    "\n",
    "sentinel2Image= ee.Image(sentinel2\n",
    "    .filterBounds(sfoPoint)\n",
    "    .filterDate('2023-01-01','2023-12-31')\n",
    "    .sort('CLOUDY_PIXEL_PERCENTAGE')\n",
    "    .first());\n",
    "\n",
    "sentinel2Image = sentinel2Image.multiply(0.0001)\n",
    "\n",
    "band_names = sentinel2Image.bandNames()\n",
    "print(band_names.getInfo())"
   ]
  },
  {
   "cell_type": "code",
   "execution_count": 20,
   "id": "c99ac978-aa85-42e0-965a-9741a4610317",
   "metadata": {},
   "outputs": [
    {
     "data": {
      "application/vnd.jupyter.widget-view+json": {
       "model_id": "aed81ffb20b7459889bab963138cbdc8",
       "version_major": 2,
       "version_minor": 0
      },
      "text/plain": [
       "Map(center=[20, 0], controls=(WidgetControl(options=['position', 'transparent_bg'], widget=HBox(children=(Togg…"
      ]
     },
     "execution_count": 20,
     "metadata": {},
     "output_type": "execute_result"
    }
   ],
   "source": [
    "sentinel2Bands=  ['B4', 'B3', 'B2']\n",
    "\n",
    "Map.addLayer(sentinel2Image, {'bands':sentinel2Bands,'min': 0, 'max': 1}, name='Sentinel 2 Image')\n",
    "Map"
   ]
  },
  {
   "cell_type": "code",
   "execution_count": 21,
   "id": "1c079f48-ab2f-4585-8c8a-bee2f8b47851",
   "metadata": {},
   "outputs": [
    {
     "name": "stdout",
     "output_type": "stream",
     "text": [
      "Sentinel 2 scale: 60\n"
     ]
    }
   ],
   "source": [
    "sentinel2Scale = sentinel2Image.select('B1').projection().nominalScale();\n",
    "print('Sentinel 2 scale:', sentinel2Scale.getInfo());"
   ]
  },
  {
   "cell_type": "markdown",
   "id": "2f81a088-ba1f-4097-b9d6-5099c6bdb99b",
   "metadata": {},
   "source": [
    "# Sentinel 3"
   ]
  },
  {
   "cell_type": "code",
   "execution_count": 22,
   "id": "bb5a07d5-bc5a-48e5-a1ec-a053850621c0",
   "metadata": {},
   "outputs": [
    {
     "name": "stdout",
     "output_type": "stream",
     "text": [
      "['Oa01_radiance', 'Oa02_radiance', 'Oa03_radiance', 'Oa04_radiance', 'Oa05_radiance', 'Oa06_radiance', 'Oa07_radiance', 'Oa08_radiance', 'Oa09_radiance', 'Oa10_radiance', 'Oa11_radiance', 'Oa12_radiance', 'Oa13_radiance', 'Oa14_radiance', 'Oa15_radiance', 'Oa16_radiance', 'Oa17_radiance', 'Oa18_radiance', 'Oa19_radiance', 'Oa20_radiance', 'Oa21_radiance', 'quality_flags']\n"
     ]
    }
   ],
   "source": [
    "sentinel3= ee.ImageCollection(\"COPERNICUS/S3/OLCI\")\n",
    "\n",
    "sentinel3Image= ee.Image(sentinel3\n",
    "    .filterBounds(sfoPoint)\n",
    "    .filterDate('2023-01-01','2023-12-31')\n",
    "    .first());\n",
    "\n",
    "#EACH BAND HAS DIFFERENT SCALES\n",
    "\n",
    "band_names = sentinel3Image.bandNames()\n",
    "print(band_names.getInfo())"
   ]
  },
  {
   "cell_type": "code",
   "execution_count": 23,
   "id": "ce742158-db61-4fda-a045-aa8b10154918",
   "metadata": {},
   "outputs": [
    {
     "data": {
      "application/vnd.jupyter.widget-view+json": {
       "model_id": "aed81ffb20b7459889bab963138cbdc8",
       "version_major": 2,
       "version_minor": 0
      },
      "text/plain": [
       "Map(center=[20, 0], controls=(WidgetControl(options=['position', 'transparent_bg'], widget=HBox(children=(Togg…"
      ]
     },
     "execution_count": 23,
     "metadata": {},
     "output_type": "execute_result"
    }
   ],
   "source": [
    "sentinel3Bands=  ['Oa08_radiance', 'Oa06_radiance', 'Oa03_radiance']\n",
    "\n",
    "Map.addLayer(sentinel3Image, {'bands':sentinel3Bands,'min': 0, 'max': 255}, name='Sentinel 3 Image')\n",
    "Map"
   ]
  },
  {
   "cell_type": "code",
   "execution_count": 24,
   "id": "b798bfe0-0f0e-4693-8934-af0f1060d7c7",
   "metadata": {},
   "outputs": [
    {
     "name": "stdout",
     "output_type": "stream",
     "text": [
      "Sentinel 3 scale: 310.11803522705475\n"
     ]
    }
   ],
   "source": [
    "sentinel3Scale = sentinel3Image.select('Oa01_radiance').projection().nominalScale();\n",
    "print('Sentinel 3 scale:', sentinel3Scale.getInfo());"
   ]
  },
  {
   "cell_type": "markdown",
   "id": "7f176041-b4dc-464b-b5b8-8da1d82887b3",
   "metadata": {},
   "source": [
    "# Proba-V"
   ]
  },
  {
   "cell_type": "code",
   "execution_count": 25,
   "id": "660fee7d-f15c-4ede-9c58-415a2096f8ec",
   "metadata": {},
   "outputs": [
    {
     "name": "stdout",
     "output_type": "stream",
     "text": [
      "['RED', 'NIR', 'BLUE', 'SWIR', 'NDVI', 'SZA', 'SAA', 'SWIRVAA', 'SWIRVZA', 'VNIRVAA', 'VNIRVZA', 'SM', 'TIME']\n"
     ]
    }
   ],
   "source": [
    "proba= ee.ImageCollection(\"VITO/PROBAV/C1/S1_TOC_100M\")\n",
    "\n",
    "probaImage= ee.Image(proba\n",
    "    .filterBounds(sfoPoint)\n",
    "    .filterDate('2019-01-01','2019-12-31')\n",
    "    .sort('CLOUD_COVER_PERCENTAGE')\n",
    "    .first());\n",
    "\n",
    "band_names = probaImage.bandNames()\n",
    "print(band_names.getInfo())"
   ]
  },
  {
   "cell_type": "code",
   "execution_count": 26,
   "id": "6b2b7605-6435-4dcc-b2c1-d86767fb7cfd",
   "metadata": {},
   "outputs": [
    {
     "data": {
      "application/vnd.jupyter.widget-view+json": {
       "model_id": "aed81ffb20b7459889bab963138cbdc8",
       "version_major": 2,
       "version_minor": 0
      },
      "text/plain": [
       "Map(center=[20, 0], controls=(WidgetControl(options=['position', 'transparent_bg'], widget=HBox(children=(Togg…"
      ]
     },
     "execution_count": 26,
     "metadata": {},
     "output_type": "execute_result"
    }
   ],
   "source": [
    "probaBands=  ['NIR', 'RED', 'BLUE']\n",
    "\n",
    "Map.addLayer(probaImage, {'bands':probaBands,'min': 0, 'max': 1000}, name='Proba-V Image')\n",
    "Map"
   ]
  },
  {
   "cell_type": "code",
   "execution_count": 27,
   "id": "0e0516bc-3f05-431b-b6e6-a3d2550a2116",
   "metadata": {},
   "outputs": [
    {
     "name": "stdout",
     "output_type": "stream",
     "text": [
      "Proba-V scale: 110.43600277104996\n"
     ]
    }
   ],
   "source": [
    "probaScale = probaImage.select('RED').projection().nominalScale();\n",
    "print('Proba-V scale:', probaScale.getInfo());"
   ]
  },
  {
   "cell_type": "markdown",
   "id": "2b15c9aa-70a0-4d6b-9bae-a81509315d21",
   "metadata": {},
   "source": [
    "# VIIRS"
   ]
  },
  {
   "cell_type": "code",
   "execution_count": 28,
   "id": "bb92d0b5-c18c-4178-aa8b-2f4c3c36a478",
   "metadata": {},
   "outputs": [
    {
     "name": "stdout",
     "output_type": "stream",
     "text": [
      "['I1', 'I2', 'I3', 'M1', 'M2', 'M3', 'M4', 'M5', 'M7', 'M8', 'M10', 'M11', 'SensorAzimuth', 'SensorZenith', 'SolarAzimuth', 'SolarZenith', 'iobs_res', 'num_observations_1km', 'num_observations_500m', 'obscov_1km', 'obscov_500m', 'orbit_pnt', 'QF1', 'QF2', 'QF3', 'QF4', 'QF5', 'QF6', 'QF7']\n"
     ]
    }
   ],
   "source": [
    "viirs= ee.ImageCollection(\"NOAA/VIIRS/001/VNP09GA\")\n",
    "\n",
    "viirsImage= ee.Image(viirs\n",
    "    .filterBounds(sfoPoint)\n",
    "    .filterDate('2023-01-01','2023-12-31')\n",
    "    .first());\n",
    "\n",
    "viirsImage = viirsImage.multiply(0.0001)\n",
    "\n",
    "band_names = viirsImage.bandNames()\n",
    "print(band_names.getInfo())"
   ]
  },
  {
   "cell_type": "code",
   "execution_count": 29,
   "id": "0b27ea28-71ac-445b-904d-d4e5eb94c60c",
   "metadata": {},
   "outputs": [
    {
     "data": {
      "application/vnd.jupyter.widget-view+json": {
       "model_id": "aed81ffb20b7459889bab963138cbdc8",
       "version_major": 2,
       "version_minor": 0
      },
      "text/plain": [
       "Map(center=[20, 0], controls=(WidgetControl(options=['position', 'transparent_bg'], widget=HBox(children=(Togg…"
      ]
     },
     "execution_count": 29,
     "metadata": {},
     "output_type": "execute_result"
    }
   ],
   "source": [
    "viirsBands=  ['M5', 'M4', 'M3']\n",
    "\n",
    "Map.addLayer(viirsImage, {'bands':viirsBands,'min': 0, 'max': 1}, name='VIIRS Image')\n",
    "Map"
   ]
  },
  {
   "cell_type": "code",
   "execution_count": 30,
   "id": "5d31a260-2399-4089-90ff-003a670cf113",
   "metadata": {},
   "outputs": [
    {
     "name": "stdout",
     "output_type": "stream",
     "text": [
      "VIIRS scale: 926.625433055833\n"
     ]
    }
   ],
   "source": [
    "viirsScale = viirsImage.select('M5').projection().nominalScale();\n",
    "print('VIIRS scale:', viirsScale.getInfo());"
   ]
  },
  {
   "cell_type": "markdown",
   "id": "a25a163b-ce15-4350-b348-4cebcdc088d7",
   "metadata": {},
   "source": [
    "# HYPERSPECTRAL SENSOR EO-1"
   ]
  },
  {
   "cell_type": "code",
   "execution_count": 31,
   "id": "679f70ee-9de3-4ff6-be48-e9af25316262",
   "metadata": {},
   "outputs": [
    {
     "name": "stdout",
     "output_type": "stream",
     "text": [
      "['B008', 'B009', 'B010', 'B011', 'B012', 'B013', 'B014', 'B015', 'B016', 'B017', 'B018', 'B019', 'B020', 'B021', 'B022', 'B023', 'B024', 'B025', 'B026', 'B027', 'B028', 'B029', 'B030', 'B031', 'B032', 'B033', 'B034', 'B035', 'B036', 'B037', 'B038', 'B039', 'B040', 'B041', 'B042', 'B043', 'B044', 'B045', 'B046', 'B047', 'B048', 'B049', 'B050', 'B051', 'B052', 'B053', 'B054', 'B055', 'B056', 'B057', 'B077', 'B078', 'B079', 'B080', 'B081', 'B082', 'B083', 'B084', 'B085', 'B086', 'B087', 'B088', 'B089', 'B090', 'B091', 'B092', 'B093', 'B094', 'B095', 'B096', 'B097', 'B098', 'B099', 'B100', 'B101', 'B102', 'B103', 'B104', 'B105', 'B106', 'B107', 'B108', 'B109', 'B110', 'B111', 'B112', 'B113', 'B114', 'B115', 'B116', 'B117', 'B118', 'B119', 'B120', 'B121', 'B122', 'B123', 'B124', 'B125', 'B126', 'B127', 'B128', 'B129', 'B130', 'B131', 'B132', 'B133', 'B134', 'B135', 'B136', 'B137', 'B138', 'B139', 'B140', 'B141', 'B142', 'B143', 'B144', 'B145', 'B146', 'B147', 'B148', 'B149', 'B150', 'B151', 'B152', 'B153', 'B154', 'B155', 'B156', 'B157', 'B158', 'B159', 'B160', 'B161', 'B162', 'B163', 'B164', 'B165', 'B166', 'B167', 'B168', 'B169', 'B170', 'B171', 'B172', 'B173', 'B174', 'B175', 'B176', 'B177', 'B178', 'B179', 'B180', 'B181', 'B182', 'B183', 'B184', 'B185', 'B186', 'B187', 'B188', 'B189', 'B190', 'B191', 'B192', 'B193', 'B194', 'B195', 'B196', 'B197', 'B198', 'B199', 'B200', 'B201', 'B202', 'B203', 'B204', 'B205', 'B206', 'B207', 'B208', 'B209', 'B210', 'B211', 'B212', 'B213', 'B214', 'B215', 'B216', 'B217', 'B218', 'B219', 'B220', 'B221', 'B222', 'B223', 'B224']\n"
     ]
    }
   ],
   "source": [
    "hyper= ee.ImageCollection(\"EO1/HYPERION\")\n",
    "\n",
    "hyperImage= ee.Image(hyper\n",
    "    .filterBounds(sfoPoint)\n",
    "    .filterDate('2001-05-01','2017-03-13')\n",
    "    .first());\n",
    "\n",
    "band_names = hyperImage.bandNames()\n",
    "print(band_names.getInfo())"
   ]
  },
  {
   "cell_type": "code",
   "execution_count": 32,
   "id": "b815f43c-9348-4af0-84fe-3c3453dcc7a9",
   "metadata": {},
   "outputs": [
    {
     "data": {
      "application/vnd.jupyter.widget-view+json": {
       "model_id": "aed81ffb20b7459889bab963138cbdc8",
       "version_major": 2,
       "version_minor": 0
      },
      "text/plain": [
       "Map(center=[20, 0], controls=(WidgetControl(options=['position', 'transparent_bg'], widget=HBox(children=(Togg…"
      ]
     },
     "execution_count": 32,
     "metadata": {},
     "output_type": "execute_result"
    }
   ],
   "source": [
    "hyperBands=  ['B030', 'B020', 'B011']\n",
    "\n",
    "Map.addLayer(hyperImage, {'bands':hyperBands,'min': 0, 'max': 5000}, name='HYPERSPECTRAL SENSOR EO-1 Image')\n",
    "Map"
   ]
  },
  {
   "cell_type": "code",
   "execution_count": 33,
   "id": "3435e862-9acc-468a-84cc-e2af7866deff",
   "metadata": {},
   "outputs": [
    {
     "name": "stdout",
     "output_type": "stream",
     "text": [
      "HYPERSPECTRAL SENSOR EO-1 scale: 29.989829492111358\n"
     ]
    }
   ],
   "source": [
    "hyperScale = hyperImage.select('B030').projection().nominalScale();\n",
    "print('HYPERSPECTRAL SENSOR EO-1 scale:', hyperScale.getInfo());"
   ]
  }
 ],
 "metadata": {
  "kernelspec": {
   "display_name": "Python 3 (ipykernel)",
   "language": "python",
   "name": "python3"
  },
  "language_info": {
   "codemirror_mode": {
    "name": "ipython",
    "version": 3
   },
   "file_extension": ".py",
   "mimetype": "text/x-python",
   "name": "python",
   "nbconvert_exporter": "python",
   "pygments_lexer": "ipython3",
   "version": "3.9.7"
  }
 },
 "nbformat": 4,
 "nbformat_minor": 5
}
